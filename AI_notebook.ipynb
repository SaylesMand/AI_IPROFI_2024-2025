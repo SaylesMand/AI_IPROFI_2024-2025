{
 "cells": [
  {
   "cell_type": "markdown",
   "metadata": {},
   "source": [
    "# Контест отборочного этапа ИИ I_profi"
   ]
  },
  {
   "cell_type": "markdown",
   "metadata": {},
   "source": [
    "### Task 1 \"Фруктовая метрика\""
   ]
  },
  {
   "cell_type": "code",
   "execution_count": 1,
   "metadata": {},
   "outputs": [
    {
     "name": "stdout",
     "output_type": "stream",
     "text": [
      "0.7744444444444444\n"
     ]
    }
   ],
   "source": [
    "import numpy as np\n",
    "\n",
    "\n",
    "# Данные задачи\n",
    "data = [\n",
    "    {\"probability\": 0.85, \"label\": \"Спелый\"},\n",
    "    {\"probability\": 0.55, \"label\": \"Спелый\"},\n",
    "    {\"probability\": 0.65, \"label\": \"Неспелый\"},\n",
    "    {\"probability\": 0.40, \"label\": \"Спелый\"},\n",
    "    {\"probability\": 0.95, \"label\": \"Спелый\"},\n",
    "    {\"probability\": 0.75, \"label\": \"Неспелый\"},\n",
    "    {\"probability\": 0.50, \"label\": \"Спелый\"},\n",
    "    {\"probability\": 0.60, \"label\": \"Спелый\"},\n",
    "    {\"probability\": 0.30, \"label\": \"Неспелый\"},\n",
    "    {\"probability\": 0.80, \"label\": \"Спелый\"},\n",
    "]\n",
    "\n",
    "# Конвертируем метки в бинарный формат (1 = Спелый, 0 = Неспелый)\n",
    "probabilities = np.array([item[\"probability\"] for item in data])\n",
    "labels = np.array([1 if item[\"label\"] == \"Спелый\" else 0 for item in data])\n",
    "\n",
    "# Пороговые значения\n",
    "thresholds = np.round(np.arange(0, 1., 0.1), 5)\n",
    "precision_values = []\n",
    "\n",
    "# Вычисление Precision для каждого порога\n",
    "for t in thresholds:\n",
    "    predictions = probabilities >= t\n",
    "    TP = np.sum((predictions == 1) & (labels == 1))  # Истинно положительные\n",
    "    FP = np.sum((predictions == 1) & (labels == 0))  # Ложно положительные\n",
    "    precision = TP / (TP + FP)\n",
    "    precision_values.append(precision)\n",
    "\n",
    "# Вычисление Average Precision\n",
    "average_precision = np.mean(precision_values)\n",
    "\n",
    "print(average_precision)\n"
   ]
  },
  {
   "cell_type": "markdown",
   "metadata": {},
   "source": [
    "### Task 2 Разделяющий эллипс"
   ]
  },
  {
   "cell_type": "code",
   "execution_count": 7,
   "metadata": {},
   "outputs": [
    {
     "data": {
      "text/plain": [
       "3"
      ]
     },
     "execution_count": 7,
     "metadata": {},
     "output_type": "execute_result"
    }
   ],
   "source": [
    "import numpy as np\n",
    "\n",
    "# Данные задачи\n",
    "mu1 = np.array([-2, 3])\n",
    "mu2 = np.array([1, 0])\n",
    "Sigma1 = np.array([[2, 0], [0, 1]])\n",
    "Sigma2 = np.array([[3, -1], [-1, 4]])\n",
    "\n",
    "# Разница средних\n",
    "delta_mu = mu2 - mu1\n",
    "\n",
    "# Инвертируем ковариационные матрицы\n",
    "Sigma1_inv = np.linalg.inv(Sigma1)\n",
    "\n",
    "Sigma2_inv = np.linalg.inv(Sigma2)\n",
    "\n",
    "# Матрица, описывающая эллипс\n",
    "A = Sigma1_inv - Sigma2_inv\n",
    "B = 2 * (Sigma2_inv @ mu2 - Sigma1_inv @ mu1)\n",
    "C = mu1.T @ Sigma1_inv @ mu1 - mu2.T @ Sigma2_inv @ mu2\n",
    "\n",
    "# Найдём собственные значения и векторы матрицы A\n",
    "eigvals, eigvecs = np.linalg.eig(A)\n",
    "\n",
    "# Длина большой полуоси эллипса: 1 / sqrt(минимальное собственное значение)\n",
    "# (так как уравнение эллипса имеет вид x^T A x + ... = const, а масштаб осей обратно пропорционален sqrt(eigenvalue))\n",
    "max_semi_axis = 1 / np.sqrt(np.min(np.abs(eigvals)))\n",
    "\n",
    "\n",
    "round(max_semi_axis)"
   ]
  },
  {
   "cell_type": "markdown",
   "metadata": {},
   "source": [
    "### Task 3  Двойное блуждание по числовой прямой"
   ]
  },
  {
   "cell_type": "code",
   "execution_count": 8,
   "metadata": {},
   "outputs": [
    {
     "data": {
      "text/plain": [
       "0.48"
      ]
     },
     "execution_count": 8,
     "metadata": {},
     "output_type": "execute_result"
    }
   ],
   "source": [
    "import numpy as np\n",
    "\n",
    "# Параметры задачи\n",
    "steps = 100\n",
    "simulations = 1_000_000\n",
    "start_distance = 10\n",
    "\n",
    "# Симуляции\n",
    "meeting_count = 0\n",
    "\n",
    "for _ in range(simulations):\n",
    "    # Генерация случайных блужданий для обоих друзей\n",
    "    friend1 = np.cumsum(np.random.choice([-1, 1], steps))\n",
    "    friend2 = np.cumsum(np.random.choice([-1, 1], steps)) + start_distance\n",
    "    \n",
    "    # Проверка на совпадение координат\n",
    "    if np.any(friend1 == friend2):\n",
    "        meeting_count += 1\n",
    "\n",
    "# Вычисление вероятности\n",
    "probability = meeting_count / simulations\n",
    "round(probability, 3)\n"
   ]
  },
  {
   "cell_type": "markdown",
   "metadata": {},
   "source": [
    "### Task 4 Минимизация MSE"
   ]
  },
  {
   "cell_type": "code",
   "execution_count": 10,
   "metadata": {},
   "outputs": [
    {
     "name": "stdout",
     "output_type": "stream",
     "text": [
      "1/1575\n"
     ]
    }
   ],
   "source": [
    "from fractions import Fraction\n",
    "\n",
    "# Ожидания для различных степеней X\n",
    "E_X2 = Fraction(1, 3)\n",
    "E_X3 = Fraction(1, 4)\n",
    "E_X4 = Fraction(1, 5)\n",
    "E_X5 = Fraction(1, 6)\n",
    "E_X6 = Fraction(1, 7)\n",
    "\n",
    "# Коэффициенты\n",
    "a1 = Fraction(-2, 5)\n",
    "a2 = Fraction(4, 3)\n",
    "\n",
    "# Формула для MSE\n",
    "MSE = (\n",
    "    E_X6\n",
    "    - 2 * a1 * E_X4\n",
    "    - 2 * a2 * E_X5\n",
    "    + a1**2 * E_X2\n",
    "    + a2**2 * E_X4\n",
    "    + 2 * a1 * a2 * E_X3\n",
    ")\n",
    "\n",
    "print(MSE)"
   ]
  },
  {
   "cell_type": "markdown",
   "metadata": {},
   "source": [
    "### Task 5 Комбинации для геймера"
   ]
  },
  {
   "cell_type": "code",
   "execution_count": 11,
   "metadata": {},
   "outputs": [
    {
     "name": "stdout",
     "output_type": "stream",
     "text": [
      "580\n"
     ]
    }
   ],
   "source": [
    "def minimal_code_length(n):\n",
    "    total_length = 0\n",
    "    level = 0\n",
    "    \n",
    "    while n > 0:\n",
    "        # На текущем уровне двоичного дерева количество кодов ограничено 2^level\n",
    "        codes_at_level = min(n, 2**level)\n",
    "        total_length += codes_at_level * (level + 1)\n",
    "        n -= codes_at_level\n",
    "        level += 1\n",
    "    \n",
    "    return total_length\n",
    "\n",
    "n = 100\n",
    "result = minimal_code_length(n)\n",
    "print(result)\n"
   ]
  },
  {
   "cell_type": "markdown",
   "metadata": {},
   "source": [
    "### Task 6 Квантизация распределения Лапласа"
   ]
  },
  {
   "cell_type": "code",
   "execution_count": 9,
   "metadata": {},
   "outputs": [
    {
     "ename": "ValueError",
     "evalue": "could not convert string to float: ''",
     "output_type": "error",
     "traceback": [
      "\u001b[1;31m---------------------------------------------------------------------------\u001b[0m",
      "\u001b[1;31mValueError\u001b[0m                                Traceback (most recent call last)",
      "Cell \u001b[1;32mIn[9], line 6\u001b[0m\n\u001b[0;32m      3\u001b[0m \u001b[38;5;28;01mfrom\u001b[39;00m \u001b[38;5;21;01mscipy\u001b[39;00m\u001b[38;5;21;01m.\u001b[39;00m\u001b[38;5;21;01moptimize\u001b[39;00m \u001b[38;5;28;01mimport\u001b[39;00m minimize\n\u001b[0;32m      5\u001b[0m \u001b[38;5;66;03m# Ввод параметров\u001b[39;00m\n\u001b[1;32m----> 6\u001b[0m l \u001b[38;5;241m=\u001b[39m \u001b[38;5;28;43mfloat\u001b[39;49m\u001b[43m(\u001b[49m\u001b[38;5;28;43minput\u001b[39;49m\u001b[43m(\u001b[49m\u001b[43m)\u001b[49m\u001b[43m)\u001b[49m  \n\u001b[0;32m      7\u001b[0m x0, x1 \u001b[38;5;241m=\u001b[39m \u001b[38;5;28mmap\u001b[39m(\u001b[38;5;28mfloat\u001b[39m, \u001b[38;5;28minput\u001b[39m()\u001b[38;5;241m.\u001b[39msplit(\u001b[38;5;124m\"\u001b[39m\u001b[38;5;124m,\u001b[39m\u001b[38;5;124m\"\u001b[39m))\n\u001b[0;32m     10\u001b[0m \u001b[38;5;66;03m# Функция плотности распределения Лапласа\u001b[39;00m\n",
      "\u001b[1;31mValueError\u001b[0m: could not convert string to float: ''"
     ]
    }
   ],
   "source": [
    "import numpy as np\n",
    "from scipy.integrate import quad\n",
    "from scipy.optimize import minimize\n",
    "\n",
    "# Ввод параметров\n",
    "l = float(input())\n",
    "x0, x1 = map(float, input().split(\",\"))\n",
    "\n",
    "\n",
    "# Функция плотности распределения Лапласа\n",
    "def P(x):\n",
    "    return 1 / (2 * l) * np.exp(-np.abs(x) / l)\n",
    "\n",
    "\n",
    "# Центроид интервала\n",
    "def centroid(a, b):\n",
    "    numerator, _ = quad(lambda x: x * P(x), a, b)\n",
    "    denominator, _ = quad(P, a, b)\n",
    "    return numerator / denominator if denominator != 0 else 0\n",
    "\n",
    "\n",
    "# Функция для вычисления корреляции\n",
    "def correlation(y_values):\n",
    "    y2, y1, y0 = y_values\n",
    "    intervals = [\n",
    "        (x1, np.inf, y2),\n",
    "        (x0, x1, y1),\n",
    "        (-x0, x0, y0),\n",
    "        (-x1, -x0, -y1),\n",
    "        (-np.inf, -x1, -y2),\n",
    "    ]\n",
    "\n",
    "    for a, b, y in intervals:\n",
    "        prob, _ = quad(P, a, b)\n",
    "        numerator += y * quad(lambda x: x * P(x), a, b)[0]\n",
    "        denominator_x += quad(lambda x: x**2 * P(x), a, b)[0]\n",
    "        denominator_y += y**2 * prob\n",
    "\n",
    "    if denominator_x == 0 or denominator_y == 0:\n",
    "        return 0\n",
    "    return numerator / (np.sqrt(denominator_x) * np.sqrt(denominator_y))\n",
    "\n",
    "\n",
    "# Нормировка значений\n",
    "def constraint(y_values):\n",
    "    return np.sum(np.array(y_values) ** 2) - 1\n",
    "\n",
    "\n",
    "# Начальные значения\n",
    "y_initial = [0, centroid(x0, x1), centroid(x1, np.inf)]\n",
    "\n",
    "y_initial = np.array(y_initial)\n",
    "y_values = y_initial / np.sqrt(np.sum(y_initial**2))\n",
    "\n",
    "\n",
    "# Оптимизация\n",
    "result = minimize(\n",
    "    lambda y: -correlation(y),\n",
    "    y_initial,\n",
    "    constraints={\"type\": \"eq\", \"fun\": constraint},\n",
    "    method=\"SLSQP\",\n",
    "    options={\"maxiter\": 100, \"disp\": False},\n",
    ")\n",
    "optimal_y = result.x\n",
    "\n",
    "# Вывод результатов\n",
    "max_corr = -result.fun\n",
    "print(f\"{max_corr:.5f}\")\n",
    "print(f\"{y_values[0]:.5f},{y_values[1]:.5f},{y_values[2]:.5f}\")"
   ]
  },
  {
   "cell_type": "markdown",
   "metadata": {},
   "source": [
    "### Task 7 Восстановить ядро свертки"
   ]
  },
  {
   "cell_type": "code",
   "execution_count": 12,
   "metadata": {},
   "outputs": [
    {
     "ename": "ValueError",
     "evalue": "invalid literal for int() with base 10: ''",
     "output_type": "error",
     "traceback": [
      "\u001b[1;31m---------------------------------------------------------------------------\u001b[0m",
      "\u001b[1;31mValueError\u001b[0m                                Traceback (most recent call last)",
      "Cell \u001b[1;32mIn[12], line 40\u001b[0m\n\u001b[0;32m     36\u001b[0m     \u001b[38;5;28;01mreturn\u001b[39;00m kernel\n\u001b[0;32m     39\u001b[0m \u001b[38;5;66;03m# Размер входной/выходной картинки\u001b[39;00m\n\u001b[1;32m---> 40\u001b[0m m, n \u001b[38;5;241m=\u001b[39m \u001b[38;5;28;43mlist\u001b[39;49m\u001b[43m(\u001b[49m\u001b[38;5;28;43mmap\u001b[39;49m\u001b[43m(\u001b[49m\u001b[38;5;28;43mint\u001b[39;49m\u001b[43m,\u001b[49m\u001b[43m \u001b[49m\u001b[38;5;28;43minput\u001b[39;49m\u001b[43m(\u001b[49m\u001b[43m)\u001b[49m\u001b[38;5;241;43m.\u001b[39;49m\u001b[43msplit\u001b[49m\u001b[43m(\u001b[49m\u001b[38;5;124;43m\"\u001b[39;49m\u001b[38;5;124;43m,\u001b[39;49m\u001b[38;5;124;43m\"\u001b[39;49m\u001b[43m)\u001b[49m\u001b[43m)\u001b[49m\u001b[43m)\u001b[49m\n\u001b[0;32m     42\u001b[0m \u001b[38;5;66;03m# Входное изображение в виде матрицы m x n\u001b[39;00m\n\u001b[0;32m     43\u001b[0m inp_image \u001b[38;5;241m=\u001b[39m []\n",
      "\u001b[1;31mValueError\u001b[0m: invalid literal for int() with base 10: ''"
     ]
    }
   ],
   "source": [
    "import numpy as np\n",
    "\n",
    "\n",
    "def recover_kernel(image, conv_result, kernel_size):\n",
    "    # Размеры изображения и ядра\n",
    "    m, n = image.shape\n",
    "    h, w = kernel_size\n",
    "\n",
    "    # Определяем отступы (паддинг)\n",
    "    pad_h = (h - 1) // 2\n",
    "    pad_w = (w - 1) // 2\n",
    "\n",
    "    # Расширяем изображение нулями для учета паддинга\n",
    "    padded_image = np.pad(\n",
    "        image, ((pad_h, pad_h), (pad_w, pad_w)), mode=\"constant\", constant_values=0\n",
    "    )\n",
    "\n",
    "    # Формируем систему уравнений\n",
    "    A = []\n",
    "    b = []\n",
    "    for i in range(m):\n",
    "        for j in range(n):\n",
    "            # Извлекаем окно\n",
    "            window = padded_image[i : i + h, j : j + w].flatten()\n",
    "            A.append(window)\n",
    "            b.append(conv_result[i, j])\n",
    "\n",
    "    A = np.array(A)\n",
    "    b = np.array(b)\n",
    "\n",
    "    # Решаем систему линейных уравнений методом наименьших квадратов\n",
    "    kernel_flat, _, _, _ = np.linalg.lstsq(A, b, rcond=None)\n",
    "\n",
    "    # Преобразуем результат в матрицу ядра\n",
    "    kernel = kernel_flat.reshape(h, w)\n",
    "    return kernel\n",
    "\n",
    "\n",
    "# Размер входной/выходной картинки\n",
    "m, n = list(map(int, input().split(\",\")))\n",
    "\n",
    "# Входное изображение в виде матрицы m x n\n",
    "inp_image = []\n",
    "for _ in range(m):\n",
    "    inp_image.append(np.array(list(map(int, input().split(\",\")))))\n",
    "\n",
    "inp_image = np.array(inp_image)\n",
    "\n",
    "# Размер ядра свёртки, где h <= m, w <= n\n",
    "h, w = list(map(int, input().split(\",\")))\n",
    "\n",
    "# Выходное изображение в виде матрицы m x n\n",
    "out_image = []\n",
    "for _ in range(m):\n",
    "    out_image.append(np.array(list(map(int, input().split(\",\")))))\n",
    "\n",
    "out_image = np.array(out_image)\n",
    "\n",
    "# Восстанавливаем ядро\n",
    "kernel = np.round(recover_kernel(inp_image, out_image, (h, w))).astype(int)\n",
    "\n",
    "for i in range(kernel.shape[0] - 1, -1, -1):\n",
    "    print(*kernel[i,][::-1], sep=\",\")"
   ]
  },
  {
   "cell_type": "markdown",
   "metadata": {},
   "source": [
    "### Task 8 Обходы графа"
   ]
  },
  {
   "cell_type": "code",
   "execution_count": 13,
   "metadata": {},
   "outputs": [
    {
     "ename": "ValueError",
     "evalue": "not enough values to unpack (expected 2, got 0)",
     "output_type": "error",
     "traceback": [
      "\u001b[1;31m---------------------------------------------------------------------------\u001b[0m",
      "\u001b[1;31mValueError\u001b[0m                                Traceback (most recent call last)",
      "Cell \u001b[1;32mIn[13], line 36\u001b[0m\n\u001b[0;32m     32\u001b[0m     result_matrix \u001b[38;5;241m=\u001b[39m matrix_power(adj_matrix, k, MOD)\n\u001b[0;32m     33\u001b[0m     \u001b[38;5;28;01mreturn\u001b[39;00m result_matrix[\u001b[38;5;241m0\u001b[39m][\u001b[38;5;241m0\u001b[39m]\n\u001b[1;32m---> 36\u001b[0m n, k \u001b[38;5;241m=\u001b[39m \u001b[38;5;28mlist\u001b[39m(\u001b[38;5;28mmap\u001b[39m(\u001b[38;5;28mint\u001b[39m, \u001b[38;5;28minput\u001b[39m()\u001b[38;5;241m.\u001b[39msplit()))\n\u001b[0;32m     38\u001b[0m adj_matrix \u001b[38;5;241m=\u001b[39m [\u001b[38;5;28mlist\u001b[39m(\u001b[38;5;28mmap\u001b[39m(\u001b[38;5;28mint\u001b[39m, \u001b[38;5;28minput\u001b[39m()\u001b[38;5;241m.\u001b[39msplit())) \u001b[38;5;28;01mfor\u001b[39;00m _ \u001b[38;5;129;01min\u001b[39;00m \u001b[38;5;28mrange\u001b[39m(n)]\n\u001b[0;32m     40\u001b[0m \u001b[38;5;28mprint\u001b[39m(count_paths(adj_matrix, k))\n",
      "\u001b[1;31mValueError\u001b[0m: not enough values to unpack (expected 2, got 0)"
     ]
    }
   ],
   "source": [
    "import numpy as np\n",
    "\n",
    "\n",
    "MOD = 1000000007\n",
    "\n",
    "\n",
    "def matrix_mult(matrix, B, mod=MOD):\n",
    "    n = len(matrix)\n",
    "    C = [[0] * n for _ in range(n)]\n",
    "    for i in range(n):\n",
    "        for j in range(n):\n",
    "            for k in range(n):\n",
    "                C[i][j] = (C[i][j] + matrix[i][k] * B[k][j]) % mod\n",
    "    return C\n",
    "\n",
    "\n",
    "def matrix_power(matrix, power, mod=MOD):\n",
    "    size = len(matrix)\n",
    "    result = np.eye(size, dtype=np.int64)\n",
    "    base = matrix.copy()\n",
    "\n",
    "    while power > 0:\n",
    "        if power % 2 == 1:\n",
    "            result = matrix_mult(result, base, mod)\n",
    "        base = matrix_mult(base, base, mod)\n",
    "        power //= 2\n",
    "\n",
    "    return result\n",
    "\n",
    "\n",
    "def count_paths(adj_matrix, k):\n",
    "    result_matrix = matrix_power(adj_matrix, k, MOD)\n",
    "    return result_matrix[0][0]\n",
    "\n",
    "\n",
    "n, k = list(map(int, input().split()))\n",
    "\n",
    "adj_matrix = [list(map(int, input().split())) for _ in range(n)]\n",
    "\n",
    "print(count_paths(adj_matrix, k))\n"
   ]
  },
  {
   "cell_type": "markdown",
   "metadata": {},
   "source": [
    "### Task 9 Наклон переменной"
   ]
  },
  {
   "cell_type": "code",
   "execution_count": null,
   "metadata": {},
   "outputs": [],
   "source": [
    "import numpy as np\n",
    "\n",
    "\n",
    "def softmax(z):\n",
    "    exp_z = np.exp(z - np.max(z))\n",
    "    return exp_z / np.sum(exp_z, axis=1, keepdims=True)\n",
    "\n",
    "\n",
    "def softmax_derivative(softmax_output):\n",
    "    s = softmax_output.reshape(-1, 1)\n",
    "    return np.diagflat(s) - np.dot(s, s.T)\n",
    "\n",
    "\n",
    "def compute_gradient(m, Z, V):\n",
    "\n",
    "    softmax_Z = softmax(Z)\n",
    "    Y = softmax_Z @ V\n",
    "\n",
    "    dL_dY = np.ones_like(Y)\n",
    "    jacobian_softmax = softmax_derivative(softmax_Z[0])\n",
    "    dL_dZ = (dL_dY @ V.T) @ jacobian_softmax\n",
    "\n",
    "    return dL_dZ\n",
    "\n",
    "\n",
    "m = int(input())\n",
    "Z = np.array([list(map(float, input().split()))])\n",
    "V = np.array([list(map(float, input().split())) for _ in range(m)])\n",
    "\n",
    "dL_dZ = compute_gradient(m, Z, V)\n",
    "\n",
    "print(\" \".join(map(str, dL_dZ.flatten())))\n"
   ]
  }
 ],
 "metadata": {
  "kernelspec": {
   "display_name": "Python 3",
   "language": "python",
   "name": "python3"
  },
  "language_info": {
   "codemirror_mode": {
    "name": "ipython",
    "version": 3
   },
   "file_extension": ".py",
   "mimetype": "text/x-python",
   "name": "python",
   "nbconvert_exporter": "python",
   "pygments_lexer": "ipython3",
   "version": "3.12.4"
  }
 },
 "nbformat": 4,
 "nbformat_minor": 2
}
